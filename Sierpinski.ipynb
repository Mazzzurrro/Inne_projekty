{
 "cells": [
  {
   "cell_type": "code",
   "execution_count": null,
   "id": "b6971faf",
   "metadata": {},
   "outputs": [],
   "source": [
    "import numpy as np\n",
    "import matplotlib.pyplot as mpl\n",
    "from random import choice\n",
    "a=np.array([[0,0],[10,0],[10,10]])\n",
    "x=[]\n",
    "y=[]\n",
    "for i in a:\n",
    "    x.append(i[0])\n",
    "    y.append(i[1])\n",
    "startpoint=[0,0.5]\n",
    "x.append(startpoint[0])\n",
    "y.append(startpoint[1])\n",
    "newpoint=startpoint.copy()\n",
    "\n",
    "for i in range(100000):\n",
    "    randomcorner=choice(a)\n",
    "    halfdistance_x=(randomcorner[0]-newpoint[0])/2\n",
    "    newpoint[0]+=halfdistance_x\n",
    "    halfdistance_y=(randomcorner[1]-newpoint[1])/2\n",
    "    newpoint[1]+=halfdistance_y\n",
    "    x.append(newpoint[0])\n",
    "    y.append(newpoint[1])\n",
    "mpl.plot(x,y,'o')"
   ]
  }
 ],
 "metadata": {
  "kernelspec": {
   "display_name": "Python 3 (ipykernel)",
   "language": "python",
   "name": "python3"
  },
  "language_info": {
   "codemirror_mode": {
    "name": "ipython",
    "version": 3
   },
   "file_extension": ".py",
   "mimetype": "text/x-python",
   "name": "python",
   "nbconvert_exporter": "python",
   "pygments_lexer": "ipython3",
   "version": "3.9.10"
  }
 },
 "nbformat": 4,
 "nbformat_minor": 5
}
